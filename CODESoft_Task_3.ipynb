{
  "nbformat": 4,
  "nbformat_minor": 0,
  "metadata": {
    "colab": {
      "provenance": [],
      "authorship_tag": "ABX9TyMG0ZZvHZppLBNxlAExrCv1",
      "include_colab_link": true
    },
    "kernelspec": {
      "name": "python3",
      "display_name": "Python 3"
    },
    "language_info": {
      "name": "python"
    }
  },
  "cells": [
    {
      "cell_type": "markdown",
      "metadata": {
        "id": "view-in-github",
        "colab_type": "text"
      },
      "source": [
        "<a href=\"https://colab.research.google.com/github/KavyaBathini01/CODSOFT/blob/main/CODESoft_Task_3.ipynb\" target=\"_parent\"><img src=\"https://colab.research.google.com/assets/colab-badge.svg\" alt=\"Open In Colab\"/></a>"
      ]
    },
    {
      "cell_type": "code",
      "execution_count": null,
      "metadata": {
        "id": "Plqf1Pe1lvTo",
        "colab": {
          "base_uri": "https://localhost:8080/"
        },
        "outputId": "8a782450-efa0-47c7-c95f-25452d39ae9a"
      },
      "outputs": [
        {
          "output_type": "stream",
          "name": "stdout",
          "text": [
            "Password Generator\n",
            "Enter the desired password length: 8\n",
            "Include uppercase letters? (y/n): y\n",
            "Include lowercase letters? (y/n): y\n",
            "Include digits? (y/n): y\n",
            "Include special characters? (y/n): n\n",
            "Generated Password: HL5t9cRP\n"
          ]
        }
      ],
      "source": [
        "#a program to generate a strong password\n",
        "import random\n",
        "import string\n",
        "\n",
        "def generate_password(length, use_uppercase, use_lowercase, use_digits, use_special_chars):\n",
        "    characters = ''\n",
        "    if use_uppercase:\n",
        "        characters += string.ascii_uppercase\n",
        "    if use_lowercase:\n",
        "        characters += string.ascii_lowercase\n",
        "    if use_digits:\n",
        "        characters += string.digits\n",
        "    if use_special_chars:\n",
        "        characters += string.punctuation\n",
        "\n",
        "    if not characters:\n",
        "        print(\"Please select at least one character type.\")\n",
        "        return None\n",
        "\n",
        "    password = ''.join(random.choice(characters) for _ in range(length))\n",
        "    return password\n",
        "\n",
        "def main():\n",
        "    print(\"Password Generator\")\n",
        "    length = int(input(\"Enter the desired password length: \"))\n",
        "\n",
        "    use_uppercase = input(\"Include uppercase letters? (y/n): \").lower() == 'y'\n",
        "    use_lowercase = input(\"Include lowercase letters? (y/n): \").lower() == 'y'\n",
        "    use_digits = input(\"Include digits? (y/n): \").lower() == 'y'\n",
        "    use_special_chars = input(\"Include special characters? (y/n): \").lower() == 'y'\n",
        "\n",
        "    password = generate_password(length, use_uppercase, use_lowercase, use_digits, use_special_chars)\n",
        "\n",
        "    if password:\n",
        "        print(\"Generated Password: \" + password)\n",
        "\n",
        "if __name__ == \"__main__\":\n",
        "    main()\n"
      ]
    }
  ]
}