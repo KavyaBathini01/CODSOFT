{
  "nbformat": 4,
  "nbformat_minor": 0,
  "metadata": {
    "colab": {
      "provenance": [],
      "toc_visible": true,
      "authorship_tag": "ABX9TyPFnLhzFphbkh+b6OT5PhU4",
      "include_colab_link": true
    },
    "kernelspec": {
      "name": "python3",
      "display_name": "Python 3"
    },
    "language_info": {
      "name": "python"
    }
  },
  "cells": [
    {
      "cell_type": "markdown",
      "metadata": {
        "id": "view-in-github",
        "colab_type": "text"
      },
      "source": [
        "<a href=\"https://colab.research.google.com/github/KavyaBathini01/CODSOFT/blob/main/CODESoft_task_4.ipynb\" target=\"_parent\"><img src=\"https://colab.research.google.com/assets/colab-badge.svg\" alt=\"Open In Colab\"/></a>"
      ]
    },
    {
      "cell_type": "code",
      "execution_count": null,
      "metadata": {
        "colab": {
          "base_uri": "https://localhost:8080/"
        },
        "id": "mAuT-jw-kNAR",
        "outputId": "ef47b2fa-b5ae-46e1-e01e-754a7efe1b97"
      },
      "outputs": [
        {
          "name": "stdout",
          "output_type": "stream",
          "text": [
            "Welcome to Rock, Paper, Scissors!\n",
            "Choose Rock, Paper, or Scissors: rock\n",
            "You chose rock. Computer chose scissors.\n",
            "You win!\n",
            "Do you want to play again? (yes/no): yes\n",
            "Choose Rock, Paper, or Scissors: paper\n",
            "You chose paper. Computer chose paper.\n",
            "It's a tie!\n",
            "Do you want to play again? (yes/no): yes\n",
            "Choose Rock, Paper, or Scissors: scissors\n",
            "You chose scissors. Computer chose rock.\n",
            "Computer wins!\n",
            "Do you want to play again? (yes/no): no\n"
          ]
        }
      ],
      "source": [
        "#Rock paper scissors game\n",
        "import random\n",
        "def get_user_choice():\n",
        "    while True:\n",
        "        user_choice = input(\"Choose Rock, Paper, or Scissors: \").strip().lower()\n",
        "        if user_choice in [\"rock\", \"paper\", \"scissors\"]:\n",
        "            return user_choice\n",
        "        else:\n",
        "            print(\"Invalid choice. Please choose Rock, Paper, or Scissors.\")\n",
        "\n",
        "def get_computer_choice():\n",
        "    return random.choice([\"rock\", \"paper\", \"scissors\"])\n",
        "\n",
        "def determine_winner(user_choice, computer_choice):\n",
        "    if user_choice == computer_choice:\n",
        "        return \"It's a tie!\"\n",
        "    elif (\n",
        "        (user_choice == \"rock\" and computer_choice == \"scissors\") or\n",
        "        (user_choice == \"scissors\" and computer_choice == \"paper\") or\n",
        "        (user_choice == \"paper\" and computer_choice == \"rock\")\n",
        "    ):\n",
        "        return \"You win!\"\n",
        "    else:\n",
        "        return \"Computer wins!\"\n",
        "\n",
        "def main():\n",
        "    print(\"Welcome to Rock, Paper, Scissors!\")\n",
        "\n",
        "    while True:\n",
        "        user_choice = get_user_choice()\n",
        "        computer_choice = get_computer_choice()\n",
        "\n",
        "        print(f\"You chose {user_choice}. Computer chose {computer_choice}.\")\n",
        "\n",
        "        result = determine_winner(user_choice, computer_choice)\n",
        "        print(result)\n",
        "\n",
        "        play_again = input(\"Do you want to play again? (yes/no): \").strip().lower()\n",
        "        if play_again != \"yes\":\n",
        "            break\n",
        "\n",
        "if __name__ == \"__main__\":\n",
        "    main()\n"
      ]
    }
  ]
}